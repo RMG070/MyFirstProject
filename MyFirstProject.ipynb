{
 "cells": [
  {
   "cell_type": "markdown",
   "id": "1c201760-4da8-4db4-8590-b1475ceed241",
   "metadata": {},
   "source": []
  },
  {
   "cell_type": "markdown",
   "id": "a649e1cd-b266-4b0c-80fb-99e99dafd632",
   "metadata": {},
   "source": [
    "# (My Assignment, title)"
   ]
  },
  {
   "cell_type": "markdown",
   "id": "a82bc6dd-dfc0-4161-ae6d-23cc07325ae5",
   "metadata": {},
   "source": [
    "# Welcome to my first Assignment here we will learn some of the Data science tool and model and laguages and so on."
   ]
  },
  {
   "cell_type": "markdown",
   "id": "30238f8c-5294-4039-822e-eb746b93a201",
   "metadata": {},
   "source": [
    "# In the first here list of data science languages :\n",
    "# Java / R / Python / SQL / juila / scala / ..."
   ]
  },
  {
   "cell_type": "markdown",
   "id": "75d3a647-9cbd-4641-9615-033eae6c50ec",
   "metadata": {},
   "source": [
    "# And then we have data science libraries like:\n",
    "# Numpy / panda / TensorFlow / Matplotlib /seaborn / ..."
   ]
  },
  {
   "cell_type": "markdown",
   "id": "9a87705a-3081-40d7-943f-ba98c4bff173",
   "metadata": {},
   "source": [
    "# Then we have some table of data science tools like:\n",
    "# Apache Spark\t/ Hadoop / Jupyter /...\t"
   ]
  },
  {
   "cell_type": "markdown",
   "id": "fdb44c53-7db0-47b6-bade-bf9faea8dfbf",
   "metadata": {},
   "source": [
    "# And now we will do some arithmetic exrssion examples:"
   ]
  },
  {
   "cell_type": "code",
   "execution_count": 15,
   "id": "613381d7-659f-461d-ae00-768690a12b41",
   "metadata": {},
   "outputs": [
    {
     "name": "stdout",
     "output_type": "stream",
     "text": [
      "15 8\n"
     ]
    }
   ],
   "source": [
    "x = 5\n",
    "y = 3\n",
    "Multi = x * y \n",
    "Add = x + y \n",
    "print( Multi , Add )"
   ]
  },
  {
   "cell_type": "code",
   "execution_count": 21,
   "id": "014cd0f8-2842-4d18-bc72-d1d2decf6fb9",
   "metadata": {},
   "outputs": [
    {
     "name": "stdout",
     "output_type": "stream",
     "text": [
      "Hours: 6\n",
      "Minutes: 40\n"
     ]
    }
   ],
   "source": [
    "min=400\n",
    "x = min//60\n",
    "y = min%60\n",
    "print(\"Hours:\",x)\n",
    "print(\"Minutes:\",y)"
   ]
  },
  {
   "cell_type": "markdown",
   "id": "2d94c683-8ec8-413d-b44c-541944b8c3f1",
   "metadata": {},
   "source": [
    "# list of objectives \n",
    "# introdatcion / language / labrarys / tools / examples "
   ]
  },
  {
   "cell_type": "markdown",
   "id": "2cca7131-b319-4994-ba0d-36e764f4b104",
   "metadata": {},
   "source": [
    "# Author's Name:\n",
    "# Rayan"
   ]
  },
  {
   "cell_type": "code",
   "execution_count": null,
   "id": "a5109bfb-3ccc-4d02-8220-6c07f6579a5f",
   "metadata": {},
   "outputs": [],
   "source": []
  }
 ],
 "metadata": {
  "kernelspec": {
   "display_name": "Python 3 (ipykernel)",
   "language": "python",
   "name": "python3"
  },
  "language_info": {
   "codemirror_mode": {
    "name": "ipython",
    "version": 3
   },
   "file_extension": ".py",
   "mimetype": "text/x-python",
   "name": "python",
   "nbconvert_exporter": "python",
   "pygments_lexer": "ipython3",
   "version": "3.12.4"
  }
 },
 "nbformat": 4,
 "nbformat_minor": 5
}
